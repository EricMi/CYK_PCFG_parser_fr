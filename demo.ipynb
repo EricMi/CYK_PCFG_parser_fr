{
 "cells": [
  {
   "cell_type": "code",
   "execution_count": null,
   "metadata": {},
   "outputs": [],
   "source": [
    "#-*- coding: utf-8 -*-\n",
    "\n",
    "from __future__ import print_function, unicode_literals\n",
    "\n",
    "import os\n",
    "import sys\n",
    "import codecs\n",
    "import random\n",
    "import pickle\n",
    "from time import time\n",
    "import numpy as np\n",
    "import string\n",
    "import re\n",
    "import nltk\n",
    "from nltk import Tree\n",
    "from collections import defaultdict\n",
    "from nltk.corpus.reader.bracket_parse import BracketParseCorpusReader\n",
    "\n",
    "from CYK_parser import CYK_parser"
   ]
  },
  {
   "cell_type": "code",
   "execution_count": null,
   "metadata": {},
   "outputs": [],
   "source": [
    "if len(sys.argv) == 1: # Interactive mode\n",
    "    MODE = \"shell\"\n",
    "    MODEL_DIR = sys.argv[1]\n",
    "elif len(sys.argv) == 3: # Batch mode\n",
    "    MODE = \"f\"\n",
    "    MODEL_DIR = sys.argv[1]\n",
    "    INPUT_FILE = sys.argv[2]\n",
    "    OUTPUT_FILE = sys.argv[3]\n",
    "else:\n",
    "    print (\"Parameter error!\\n\")\n",
    "    print (\"Please specify the path to PCFG model, or occasionally input and output files.\")\n",
    "\n",
    "PCFG_UNARY_RULES_DICT_FILE = os.path.join(MODEL_DIR, \"PCFG_unary_dict.pkl\")\n",
    "PCFG_BINARY_RULES_DICT_FILE = os.path.join(MODEL_DIR, \"PCFG_binary_dict.pkl\")\n",
    "PCFG_POSTAGS_DICT_FILE = os.path.join(MODEL_DIR, \"PCFG_postags_dict.pkl\")\n",
    "PCFG_NT_SET_FILE = os.path.join(MODEL_DIR, \"PCFG_non_terminals_set.pkl\")\n",
    "PCFG_T_SET_FILE = os.path.join(MODEL_DIR, \"PCFG_terminals_set.pkl\")\n",
    "PCFG_POSTAGS_SET_FILE = os.path.join(MODEL_DIR, \"PCFG_postags_set.pkl\")"
   ]
  },
  {
   "cell_type": "code",
   "execution_count": null,
   "metadata": {},
   "outputs": [],
   "source": [
    "t0 = time()\n",
    "print (\">>> Loading PCFG model parameters...\")\n",
    "\n",
    "with codecs.open(PCFG_UNARY_RULES_DICT_FILE, 'rb') as f:\n",
    "    unary_rules_dict = pickle.load(f)\n",
    "f.close()\n",
    "with codecs.open(PCFG_BINARY_RULES_DICT_FILE, 'rb') as f:\n",
    "    binary_rules_dict = pickle.load(f)\n",
    "f.close()\n",
    "with codecs.open(PCFG_POSTAGS_DICT_FILE, 'rb') as f:\n",
    "    postags_dict = pickle.load(f)\n",
    "f.close()\n",
    "with codecs.open(PCFG_NT_SET_FILE, 'rb') as f:\n",
    "    NT_set = pickle.load(f)\n",
    "f.close()\n",
    "with codecs.open(PCFG_T_SET_FILE, 'rb') as f:\n",
    "    T_set = pickle.load(f)\n",
    "f.close()\n",
    "with codecs.open(PCFG_POSTAGS_SET_FILE, 'rb') as f:\n",
    "    postags_set = pickle.load(f)\n",
    "f.close()\n",
    "\n",
    "print (\">>> PCFG model parameters load done in %0.3fs.\\n\" % (time() - t0))"
   ]
  },
  {
   "cell_type": "code",
   "execution_count": null,
   "metadata": {},
   "outputs": [],
   "source": [
    "parser = CYK_parser()\n",
    "parser.initialize(NT_set, T_set, postags_set, unary_rules_dict, binary_rules_dict, postags_dict)"
   ]
  },
  {
   "cell_type": "code",
   "execution_count": null,
   "metadata": {},
   "outputs": [],
   "source": [
    "if MODE == \"f\":\n",
    "    parser.parse_corpus(input=INPUT_FILE, output=OUTPUT_FILE, verbose=1)\n",
    "else:\n",
    "    while True:\n",
    "        sent = raw_input(\"Enter the sentence to be parsed (empty string to exit): \")\n",
    "        sent = sent.strip()\n",
    "        if len(sent) == 0:\n",
    "            break\n",
    "        else:\n",
    "            parser.parse_sent(input=sent, verbose=1)"
   ]
  }
 ],
 "metadata": {
  "kernelspec": {
   "display_name": "Python 2",
   "language": "python",
   "name": "python2"
  },
  "language_info": {
   "codemirror_mode": {
    "name": "ipython",
    "version": 2
   },
   "file_extension": ".py",
   "mimetype": "text/x-python",
   "name": "python",
   "nbconvert_exporter": "python",
   "pygments_lexer": "ipython2",
   "version": "2.7.14"
  }
 },
 "nbformat": 4,
 "nbformat_minor": 2
}
